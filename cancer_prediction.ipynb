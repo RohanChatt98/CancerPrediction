{
 "cells": [
  {
   "cell_type": "markdown",
   "id": "b85a20bf-c2db-40cf-892e-3ec0a7248a07",
   "metadata": {},
   "source": [
    "# Cancer Prediction\n",
    "\n",
    "## Import Data"
   ]
  },
  {
   "cell_type": "code",
   "execution_count": 1,
   "id": "b757633e-7258-4153-9da2-df6245702f9d",
   "metadata": {},
   "outputs": [],
   "source": [
    "import pandas as pd"
   ]
  },
  {
   "cell_type": "code",
   "execution_count": 2,
   "id": "33e18bb4-22bc-4117-85d2-7de19e7e9594",
   "metadata": {},
   "outputs": [],
   "source": [
    "DATASET_PATH = \"./cancerdata.csv\""
   ]
  },
  {
   "cell_type": "code",
   "execution_count": 3,
   "id": "cc46b3fb-266b-4258-9fa5-ce8bb6a405ff",
   "metadata": {},
   "outputs": [
    {
     "data": {
      "text/html": [
       "<div>\n",
       "<style scoped>\n",
       "    .dataframe tbody tr th:only-of-type {\n",
       "        vertical-align: middle;\n",
       "    }\n",
       "\n",
       "    .dataframe tbody tr th {\n",
       "        vertical-align: top;\n",
       "    }\n",
       "\n",
       "    .dataframe thead th {\n",
       "        text-align: right;\n",
       "    }\n",
       "</style>\n",
       "<table border=\"1\" class=\"dataframe\">\n",
       "  <thead>\n",
       "    <tr style=\"text-align: right;\">\n",
       "      <th></th>\n",
       "      <th>id</th>\n",
       "      <th>diagnosis</th>\n",
       "      <th>Sex</th>\n",
       "      <th>radius_mean</th>\n",
       "      <th>texture_mean</th>\n",
       "      <th>perimeter_mean</th>\n",
       "      <th>area_mean</th>\n",
       "      <th>smoothness_mean</th>\n",
       "      <th>compactness_mean</th>\n",
       "      <th>concavity_mean</th>\n",
       "      <th>...</th>\n",
       "      <th>radius_worst</th>\n",
       "      <th>texture_worst</th>\n",
       "      <th>perimeter_worst</th>\n",
       "      <th>area_worst</th>\n",
       "      <th>smoothness_worst</th>\n",
       "      <th>compactness_worst</th>\n",
       "      <th>concavity_worst</th>\n",
       "      <th>points_worst</th>\n",
       "      <th>symmetry_worst</th>\n",
       "      <th>dimension_worst</th>\n",
       "    </tr>\n",
       "  </thead>\n",
       "  <tbody>\n",
       "    <tr>\n",
       "      <th>0</th>\n",
       "      <td>87139402</td>\n",
       "      <td>B</td>\n",
       "      <td>F</td>\n",
       "      <td>12.32</td>\n",
       "      <td>12.39</td>\n",
       "      <td>78.85</td>\n",
       "      <td>464.1</td>\n",
       "      <td>0.10280</td>\n",
       "      <td>0.06981</td>\n",
       "      <td>0.03987</td>\n",
       "      <td>...</td>\n",
       "      <td>13.50</td>\n",
       "      <td>15.64</td>\n",
       "      <td>86.97</td>\n",
       "      <td>549.1</td>\n",
       "      <td>0.1385</td>\n",
       "      <td>0.1266</td>\n",
       "      <td>0.12420</td>\n",
       "      <td>0.09391</td>\n",
       "      <td>0.2827</td>\n",
       "      <td>0.06771</td>\n",
       "    </tr>\n",
       "    <tr>\n",
       "      <th>1</th>\n",
       "      <td>8910251</td>\n",
       "      <td>B</td>\n",
       "      <td>M</td>\n",
       "      <td>10.60</td>\n",
       "      <td>18.95</td>\n",
       "      <td>69.28</td>\n",
       "      <td>346.4</td>\n",
       "      <td>0.09688</td>\n",
       "      <td>0.11470</td>\n",
       "      <td>0.06387</td>\n",
       "      <td>...</td>\n",
       "      <td>11.88</td>\n",
       "      <td>22.94</td>\n",
       "      <td>78.28</td>\n",
       "      <td>424.8</td>\n",
       "      <td>0.1213</td>\n",
       "      <td>0.2515</td>\n",
       "      <td>0.19160</td>\n",
       "      <td>0.07926</td>\n",
       "      <td>0.2940</td>\n",
       "      <td>0.07587</td>\n",
       "    </tr>\n",
       "    <tr>\n",
       "      <th>2</th>\n",
       "      <td>905520</td>\n",
       "      <td>B</td>\n",
       "      <td>M</td>\n",
       "      <td>11.04</td>\n",
       "      <td>16.83</td>\n",
       "      <td>70.92</td>\n",
       "      <td>373.2</td>\n",
       "      <td>0.10770</td>\n",
       "      <td>0.07804</td>\n",
       "      <td>0.03046</td>\n",
       "      <td>...</td>\n",
       "      <td>12.41</td>\n",
       "      <td>26.44</td>\n",
       "      <td>79.93</td>\n",
       "      <td>471.4</td>\n",
       "      <td>0.1369</td>\n",
       "      <td>0.1482</td>\n",
       "      <td>0.10670</td>\n",
       "      <td>0.07431</td>\n",
       "      <td>0.2998</td>\n",
       "      <td>0.07881</td>\n",
       "    </tr>\n",
       "    <tr>\n",
       "      <th>3</th>\n",
       "      <td>868871</td>\n",
       "      <td>B</td>\n",
       "      <td>F</td>\n",
       "      <td>11.28</td>\n",
       "      <td>13.39</td>\n",
       "      <td>73.00</td>\n",
       "      <td>384.8</td>\n",
       "      <td>0.11640</td>\n",
       "      <td>0.11360</td>\n",
       "      <td>0.04635</td>\n",
       "      <td>...</td>\n",
       "      <td>11.92</td>\n",
       "      <td>15.77</td>\n",
       "      <td>76.53</td>\n",
       "      <td>434.0</td>\n",
       "      <td>0.1367</td>\n",
       "      <td>0.1822</td>\n",
       "      <td>0.08669</td>\n",
       "      <td>0.08611</td>\n",
       "      <td>0.2102</td>\n",
       "      <td>0.06784</td>\n",
       "    </tr>\n",
       "    <tr>\n",
       "      <th>4</th>\n",
       "      <td>9012568</td>\n",
       "      <td>B</td>\n",
       "      <td>F</td>\n",
       "      <td>15.19</td>\n",
       "      <td>13.21</td>\n",
       "      <td>97.65</td>\n",
       "      <td>711.8</td>\n",
       "      <td>0.07963</td>\n",
       "      <td>0.06934</td>\n",
       "      <td>0.03393</td>\n",
       "      <td>...</td>\n",
       "      <td>16.20</td>\n",
       "      <td>15.73</td>\n",
       "      <td>104.50</td>\n",
       "      <td>819.1</td>\n",
       "      <td>0.1126</td>\n",
       "      <td>0.1737</td>\n",
       "      <td>0.13620</td>\n",
       "      <td>0.08178</td>\n",
       "      <td>0.2487</td>\n",
       "      <td>0.06766</td>\n",
       "    </tr>\n",
       "  </tbody>\n",
       "</table>\n",
       "<p>5 rows × 33 columns</p>\n",
       "</div>"
      ],
      "text/plain": [
       "         id diagnosis Sex  radius_mean  texture_mean  perimeter_mean  \\\n",
       "0  87139402         B   F        12.32         12.39           78.85   \n",
       "1   8910251         B  M         10.60         18.95           69.28   \n",
       "2    905520         B  M         11.04         16.83           70.92   \n",
       "3    868871         B   F        11.28         13.39           73.00   \n",
       "4   9012568         B   F        15.19         13.21           97.65   \n",
       "\n",
       "   area_mean  smoothness_mean  compactness_mean  concavity_mean  ...  \\\n",
       "0      464.1          0.10280           0.06981         0.03987  ...   \n",
       "1      346.4          0.09688           0.11470         0.06387  ...   \n",
       "2      373.2          0.10770           0.07804         0.03046  ...   \n",
       "3      384.8          0.11640           0.11360         0.04635  ...   \n",
       "4      711.8          0.07963           0.06934         0.03393  ...   \n",
       "\n",
       "   radius_worst  texture_worst  perimeter_worst  area_worst  smoothness_worst  \\\n",
       "0         13.50          15.64            86.97       549.1            0.1385   \n",
       "1         11.88          22.94            78.28       424.8            0.1213   \n",
       "2         12.41          26.44            79.93       471.4            0.1369   \n",
       "3         11.92          15.77            76.53       434.0            0.1367   \n",
       "4         16.20          15.73           104.50       819.1            0.1126   \n",
       "\n",
       "   compactness_worst  concavity_worst  points_worst  symmetry_worst  \\\n",
       "0             0.1266          0.12420       0.09391          0.2827   \n",
       "1             0.2515          0.19160       0.07926          0.2940   \n",
       "2             0.1482          0.10670       0.07431          0.2998   \n",
       "3             0.1822          0.08669       0.08611          0.2102   \n",
       "4             0.1737          0.13620       0.08178          0.2487   \n",
       "\n",
       "   dimension_worst  \n",
       "0          0.06771  \n",
       "1          0.07587  \n",
       "2          0.07881  \n",
       "3          0.06784  \n",
       "4          0.06766  \n",
       "\n",
       "[5 rows x 33 columns]"
      ]
     },
     "execution_count": 3,
     "metadata": {},
     "output_type": "execute_result"
    }
   ],
   "source": [
    "df = pd.read_csv(DATASET_PATH)\n",
    "df.head()"
   ]
  },
  {
   "cell_type": "markdown",
   "id": "c1eac48f-a5df-4053-b79a-55622ed44f10",
   "metadata": {},
   "source": [
    "### Remove ID column"
   ]
  },
  {
   "cell_type": "code",
   "execution_count": 4,
   "id": "e2a30084-ce15-4871-94fd-00bd08dbee54",
   "metadata": {},
   "outputs": [],
   "source": [
    "df.drop(columns=['id'], inplace=True)"
   ]
  },
  {
   "cell_type": "markdown",
   "id": "27965439-d2ed-4012-8c9e-64e1545af5b9",
   "metadata": {},
   "source": [
    "## Data Exploration"
   ]
  },
  {
   "cell_type": "code",
   "execution_count": 5,
   "id": "57191109-c42f-45f3-8c31-82afcb8402ed",
   "metadata": {},
   "outputs": [
    {
     "name": "stdout",
     "output_type": "stream",
     "text": [
      "<class 'pandas.core.frame.DataFrame'>\n",
      "RangeIndex: 569 entries, 0 to 568\n",
      "Data columns (total 32 columns):\n",
      " #   Column             Non-Null Count  Dtype  \n",
      "---  ------             --------------  -----  \n",
      " 0   diagnosis          569 non-null    object \n",
      " 1   Sex                569 non-null    object \n",
      " 2   radius_mean        569 non-null    float64\n",
      " 3   texture_mean       569 non-null    float64\n",
      " 4   perimeter_mean     569 non-null    float64\n",
      " 5   area_mean          569 non-null    float64\n",
      " 6   smoothness_mean    569 non-null    float64\n",
      " 7   compactness_mean   569 non-null    float64\n",
      " 8   concavity_mean     567 non-null    float64\n",
      " 9   points_mean        568 non-null    float64\n",
      " 10  symmetry_mean      568 non-null    float64\n",
      " 11  dimension_mean     569 non-null    float64\n",
      " 12  radius_se          569 non-null    float64\n",
      " 13  texture_se         569 non-null    float64\n",
      " 14  perimeter_se       569 non-null    float64\n",
      " 15  area_se            569 non-null    float64\n",
      " 16  smoothness_se      569 non-null    float64\n",
      " 17  compactness_se     569 non-null    float64\n",
      " 18  concavity_se       569 non-null    float64\n",
      " 19  points_se          569 non-null    float64\n",
      " 20  symmetry_se        569 non-null    float64\n",
      " 21  dimension_se       569 non-null    float64\n",
      " 22  radius_worst       569 non-null    float64\n",
      " 23  texture_worst      569 non-null    float64\n",
      " 24  perimeter_worst    569 non-null    float64\n",
      " 25  area_worst         569 non-null    float64\n",
      " 26  smoothness_worst   569 non-null    float64\n",
      " 27  compactness_worst  569 non-null    float64\n",
      " 28  concavity_worst    569 non-null    float64\n",
      " 29  points_worst       569 non-null    float64\n",
      " 30  symmetry_worst     569 non-null    float64\n",
      " 31  dimension_worst    569 non-null    float64\n",
      "dtypes: float64(30), object(2)\n",
      "memory usage: 142.4+ KB\n"
     ]
    }
   ],
   "source": [
    "df.info()"
   ]
  },
  {
   "cell_type": "markdown",
   "id": "52427287-bda2-4ac0-9c9a-575a52d92864",
   "metadata": {},
   "source": [
    "### Missing Values"
   ]
  },
  {
   "cell_type": "code",
   "execution_count": 6,
   "id": "28847abf-be9e-4fb2-b26f-ffdf31217dd4",
   "metadata": {},
   "outputs": [
    {
     "data": {
      "text/plain": [
       "{'concavity_mean': 0.3527336860670194,\n",
       " 'points_mean': 0.176056338028169,\n",
       " 'symmetry_mean': 0.176056338028169}"
      ]
     },
     "metadata": {},
     "output_type": "display_data"
    }
   ],
   "source": [
    "def missing_value_report(dataframe: pd.DataFrame) -> dict[str, float]:\n",
    "    \"\"\" Returns the percentage of missing values per column \"\"\"\n",
    "    missing_values_percentage = 100 * dataframe.isna().sum(axis='index') / dataframe.count()\n",
    "    return missing_values_percentage[missing_values_percentage > 0].to_dict()\n",
    "\n",
    "\n",
    "display(missing_value_report(df))"
   ]
  },
  {
   "cell_type": "code",
   "execution_count": 7,
   "id": "d34660ca-f960-4587-91f6-b821dbeffb2c",
   "metadata": {},
   "outputs": [],
   "source": [
    "# Fill the numerical columns\n",
    "NUMERICAL_COLUMNS = df.select_dtypes(include=['number']).columns\n",
    "numerical_fill_value = df[NUMERICAL_COLUMNS].median()\n",
    "df[NUMERICAL_COLUMNS] = df[NUMERICAL_COLUMNS].fillna(numerical_fill_value)\n",
    "\n",
    "# Fill the categorical columns\n",
    "CATEGORICAL_COLUMNS = df.select_dtypes(include=['object']).columns\n",
    "categorical_fill_value = df[CATEGORICAL_COLUMNS].mode()\n",
    "df[CATEGORICAL_COLUMNS] = df[CATEGORICAL_COLUMNS].fillna(categorical_fill_value)"
   ]
  },
  {
   "cell_type": "code",
   "execution_count": 8,
   "id": "4e03b644-4455-4a14-9efd-00cbcbc0d657",
   "metadata": {},
   "outputs": [
    {
     "data": {
      "text/plain": [
       "{}"
      ]
     },
     "execution_count": 8,
     "metadata": {},
     "output_type": "execute_result"
    }
   ],
   "source": [
    "missing_value_report(df)"
   ]
  },
  {
   "cell_type": "markdown",
   "id": "3154f348-fe21-4a65-8bc3-b1f0b3ed3108",
   "metadata": {},
   "source": [
    "__All the missing values have been imputed and now our dataframe has zero missing values__"
   ]
  },
  {
   "cell_type": "markdown",
   "id": "b7211ab4-3e0f-4812-8e0a-1ed13a26c65f",
   "metadata": {},
   "source": [
    "### Visual Exploration"
   ]
  },
  {
   "cell_type": "code",
   "execution_count": 9,
   "id": "0158ca84-c249-4d3d-bb88-1ad447e44b23",
   "metadata": {},
   "outputs": [],
   "source": [
    "import plotly.express as px"
   ]
  },
  {
   "cell_type": "code",
   "execution_count": 10,
   "id": "d63a880d-2c40-439a-b6ba-95081ae5e38d",
   "metadata": {},
   "outputs": [
    {
     "data": {
      "application/vnd.plotly.v1+json": {
       "config": {
        "plotlyServerURL": "https://plot.ly"
       },
       "data": [
        {
         "domain": {
          "x": [
           0,
           1
          ],
          "y": [
           0,
           1
          ]
         },
         "hovertemplate": "Sex=%{label}<extra></extra>",
         "labels": [
          "F",
          "M ",
          "M ",
          "F",
          "F",
          "F",
          "F",
          "F",
          "F",
          "M ",
          "M ",
          "F",
          "M ",
          "M ",
          "M ",
          "M ",
          "M ",
          "F",
          "F",
          "M ",
          "M ",
          "F",
          "M ",
          "F",
          "M ",
          "M ",
          "M ",
          "M ",
          "F",
          "F",
          "F",
          "M ",
          "F",
          "F",
          "M ",
          "M ",
          "M ",
          "M ",
          "F",
          "F",
          "F",
          "F",
          "M ",
          "F",
          "F",
          "M ",
          "M ",
          "F",
          "F",
          "M ",
          "M ",
          "M ",
          "F",
          "F",
          "F",
          "M ",
          "M ",
          "M ",
          "M ",
          "M ",
          "M ",
          "F",
          "F",
          "F",
          "M ",
          "M ",
          "F",
          "F",
          "M ",
          "F",
          "F",
          "M ",
          "M ",
          "F",
          "M ",
          "M ",
          "M ",
          "F",
          "M ",
          "M ",
          "M ",
          "F",
          "M ",
          "F",
          "F",
          "M ",
          "F",
          "F",
          "F",
          "M ",
          "F",
          "M ",
          "M ",
          "F",
          "F",
          "F",
          "M ",
          "M ",
          "F",
          "M ",
          "F",
          "F",
          "M ",
          "F",
          "F",
          "M ",
          "F",
          "F",
          "M ",
          "F",
          "M ",
          "M ",
          "F",
          "F",
          "F",
          "F",
          "F",
          "F",
          "M ",
          "M ",
          "F",
          "M ",
          "M ",
          "M ",
          "M ",
          "M ",
          "F",
          "F",
          "M ",
          "M ",
          "F",
          "M ",
          "F",
          "M ",
          "M ",
          "M ",
          "M ",
          "F",
          "F",
          "F",
          "M ",
          "F",
          "F",
          "M ",
          "M ",
          "M ",
          "M ",
          "F",
          "F",
          "F",
          "F",
          "M ",
          "F",
          "F",
          "M ",
          "M ",
          "F",
          "F",
          "M ",
          "M ",
          "M ",
          "F",
          "F",
          "F",
          "M ",
          "M ",
          "M ",
          "M ",
          "M ",
          "M ",
          "F",
          "F",
          "F",
          "M ",
          "M ",
          "F",
          "F",
          "M ",
          "F",
          "F",
          "M ",
          "M ",
          "F",
          "M ",
          "M ",
          "M ",
          "F",
          "M ",
          "M ",
          "M ",
          "F",
          "M ",
          "F",
          "F",
          "M ",
          "F",
          "F",
          "F",
          "M ",
          "F",
          "M ",
          "M ",
          "F",
          "F",
          "F",
          "M ",
          "M ",
          "F",
          "M ",
          "F",
          "F",
          "M ",
          "F",
          "F",
          "M ",
          "F",
          "F",
          "M ",
          "F",
          "M ",
          "F",
          "F",
          "M ",
          "M ",
          "F",
          "F",
          "F",
          "F",
          "F",
          "M ",
          "F",
          "M ",
          "M ",
          "F",
          "M ",
          "F",
          "F",
          "M ",
          "F",
          "F",
          "F",
          "F",
          "F",
          "F",
          "F",
          "F",
          "F",
          "F",
          "M ",
          "F",
          "F",
          "F",
          "F",
          "M ",
          "F",
          "F",
          "F",
          "M ",
          "M ",
          "F",
          "M ",
          "M ",
          "F",
          "F",
          "F",
          "M ",
          "F",
          "M ",
          "M ",
          "F",
          "M ",
          "F",
          "M ",
          "F",
          "F",
          "M ",
          "F",
          "F",
          "M ",
          "M ",
          "F",
          "M ",
          "F",
          "F",
          "F",
          "F",
          "F",
          "M ",
          "F",
          "M ",
          "F",
          "M ",
          "F",
          "F",
          "F",
          "F",
          "F",
          "F",
          "F",
          "M ",
          "F",
          "M ",
          "M ",
          "M ",
          "F",
          "F",
          "M ",
          "F",
          "F",
          "M ",
          "M ",
          "F",
          "F",
          "M ",
          "M ",
          "M ",
          "M ",
          "F",
          "F",
          "M ",
          "M ",
          "M ",
          "F",
          "M ",
          "F",
          "F",
          "F",
          "M ",
          "M ",
          "F",
          "F",
          "F",
          "M ",
          "F",
          "M ",
          "F",
          "F",
          "F",
          "F",
          "F",
          "M ",
          "F",
          "M ",
          "F",
          "M ",
          "M ",
          "F",
          "F",
          "M ",
          "F",
          "F",
          "F",
          "F",
          "F",
          "F",
          "F",
          "M ",
          "F",
          "F",
          "F",
          "M ",
          "F",
          "M ",
          "M ",
          "M ",
          "M ",
          "F",
          "F",
          "F",
          "F",
          "M ",
          "F",
          "M ",
          "F",
          "M ",
          "F",
          "M ",
          "M ",
          "F",
          "F",
          "F",
          "F",
          "M ",
          "F",
          "M ",
          "F",
          "F",
          "F",
          "F",
          "M ",
          "F",
          "F",
          "M ",
          "F",
          "M ",
          "M ",
          "M ",
          "M ",
          "F",
          "F",
          "F",
          "F",
          "F",
          "M ",
          "F",
          "M ",
          "M ",
          "M ",
          "F",
          "F",
          "M ",
          "F",
          "M ",
          "F",
          "F",
          "M ",
          "M ",
          "M ",
          "F",
          "F",
          "M ",
          "M ",
          "F",
          "F",
          "F",
          "F",
          "F",
          "F",
          "M ",
          "M ",
          "F",
          "M ",
          "M ",
          "M ",
          "M ",
          "M ",
          "F",
          "F",
          "M ",
          "M ",
          "F",
          "M ",
          "F",
          "M ",
          "M ",
          "M ",
          "M ",
          "F",
          "F",
          "F",
          "M ",
          "F",
          "F",
          "M ",
          "M ",
          "M ",
          "M ",
          "F",
          "F",
          "F",
          "F",
          "M ",
          "F",
          "F",
          "M ",
          "M ",
          "F",
          "F",
          "M ",
          "M ",
          "M ",
          "F",
          "F",
          "F",
          "M ",
          "M ",
          "M ",
          "M ",
          "M ",
          "M ",
          "F",
          "F",
          "F",
          "M ",
          "M ",
          "F",
          "F",
          "M ",
          "F",
          "F",
          "M ",
          "M ",
          "F",
          "M ",
          "M ",
          "M ",
          "F",
          "M ",
          "M ",
          "M ",
          "F",
          "M ",
          "F",
          "F",
          "M ",
          "F",
          "F",
          "F",
          "M ",
          "F",
          "M ",
          "M ",
          "F",
          "F",
          "F",
          "M ",
          "M ",
          "F",
          "M ",
          "F",
          "F",
          "M ",
          "F",
          "F",
          "M ",
          "F",
          "F",
          "M ",
          "F",
          "M ",
          "M ",
          "F",
          "F",
          "M ",
          "M ",
          "F",
          "F",
          "M ",
          "M ",
          "F",
          "M ",
          "M ",
          "M ",
          "M ",
          "M ",
          "F",
          "F",
          "M ",
          "M ",
          "F",
          "M ",
          "F",
          "M ",
          "M ",
          "M ",
          "M ",
          "F",
          "F",
          "F",
          "M ",
          "F",
          "F",
          "M ",
          "M ",
          "F",
          "M ",
          "F",
          "M ",
          "F"
         ],
         "legendgroup": "",
         "name": "",
         "showlegend": true,
         "type": "pie"
        }
       ],
       "layout": {
        "height": 400,
        "legend": {
         "tracegroupgap": 0
        },
        "template": {
         "data": {
          "bar": [
           {
            "error_x": {
             "color": "#2a3f5f"
            },
            "error_y": {
             "color": "#2a3f5f"
            },
            "marker": {
             "line": {
              "color": "#E5ECF6",
              "width": 0.5
             },
             "pattern": {
              "fillmode": "overlay",
              "size": 10,
              "solidity": 0.2
             }
            },
            "type": "bar"
           }
          ],
          "barpolar": [
           {
            "marker": {
             "line": {
              "color": "#E5ECF6",
              "width": 0.5
             },
             "pattern": {
              "fillmode": "overlay",
              "size": 10,
              "solidity": 0.2
             }
            },
            "type": "barpolar"
           }
          ],
          "carpet": [
           {
            "aaxis": {
             "endlinecolor": "#2a3f5f",
             "gridcolor": "white",
             "linecolor": "white",
             "minorgridcolor": "white",
             "startlinecolor": "#2a3f5f"
            },
            "baxis": {
             "endlinecolor": "#2a3f5f",
             "gridcolor": "white",
             "linecolor": "white",
             "minorgridcolor": "white",
             "startlinecolor": "#2a3f5f"
            },
            "type": "carpet"
           }
          ],
          "choropleth": [
           {
            "colorbar": {
             "outlinewidth": 0,
             "ticks": ""
            },
            "type": "choropleth"
           }
          ],
          "contour": [
           {
            "colorbar": {
             "outlinewidth": 0,
             "ticks": ""
            },
            "colorscale": [
             [
              0,
              "#0d0887"
             ],
             [
              0.1111111111111111,
              "#46039f"
             ],
             [
              0.2222222222222222,
              "#7201a8"
             ],
             [
              0.3333333333333333,
              "#9c179e"
             ],
             [
              0.4444444444444444,
              "#bd3786"
             ],
             [
              0.5555555555555556,
              "#d8576b"
             ],
             [
              0.6666666666666666,
              "#ed7953"
             ],
             [
              0.7777777777777778,
              "#fb9f3a"
             ],
             [
              0.8888888888888888,
              "#fdca26"
             ],
             [
              1,
              "#f0f921"
             ]
            ],
            "type": "contour"
           }
          ],
          "contourcarpet": [
           {
            "colorbar": {
             "outlinewidth": 0,
             "ticks": ""
            },
            "type": "contourcarpet"
           }
          ],
          "heatmap": [
           {
            "colorbar": {
             "outlinewidth": 0,
             "ticks": ""
            },
            "colorscale": [
             [
              0,
              "#0d0887"
             ],
             [
              0.1111111111111111,
              "#46039f"
             ],
             [
              0.2222222222222222,
              "#7201a8"
             ],
             [
              0.3333333333333333,
              "#9c179e"
             ],
             [
              0.4444444444444444,
              "#bd3786"
             ],
             [
              0.5555555555555556,
              "#d8576b"
             ],
             [
              0.6666666666666666,
              "#ed7953"
             ],
             [
              0.7777777777777778,
              "#fb9f3a"
             ],
             [
              0.8888888888888888,
              "#fdca26"
             ],
             [
              1,
              "#f0f921"
             ]
            ],
            "type": "heatmap"
           }
          ],
          "heatmapgl": [
           {
            "colorbar": {
             "outlinewidth": 0,
             "ticks": ""
            },
            "colorscale": [
             [
              0,
              "#0d0887"
             ],
             [
              0.1111111111111111,
              "#46039f"
             ],
             [
              0.2222222222222222,
              "#7201a8"
             ],
             [
              0.3333333333333333,
              "#9c179e"
             ],
             [
              0.4444444444444444,
              "#bd3786"
             ],
             [
              0.5555555555555556,
              "#d8576b"
             ],
             [
              0.6666666666666666,
              "#ed7953"
             ],
             [
              0.7777777777777778,
              "#fb9f3a"
             ],
             [
              0.8888888888888888,
              "#fdca26"
             ],
             [
              1,
              "#f0f921"
             ]
            ],
            "type": "heatmapgl"
           }
          ],
          "histogram": [
           {
            "marker": {
             "pattern": {
              "fillmode": "overlay",
              "size": 10,
              "solidity": 0.2
             }
            },
            "type": "histogram"
           }
          ],
          "histogram2d": [
           {
            "colorbar": {
             "outlinewidth": 0,
             "ticks": ""
            },
            "colorscale": [
             [
              0,
              "#0d0887"
             ],
             [
              0.1111111111111111,
              "#46039f"
             ],
             [
              0.2222222222222222,
              "#7201a8"
             ],
             [
              0.3333333333333333,
              "#9c179e"
             ],
             [
              0.4444444444444444,
              "#bd3786"
             ],
             [
              0.5555555555555556,
              "#d8576b"
             ],
             [
              0.6666666666666666,
              "#ed7953"
             ],
             [
              0.7777777777777778,
              "#fb9f3a"
             ],
             [
              0.8888888888888888,
              "#fdca26"
             ],
             [
              1,
              "#f0f921"
             ]
            ],
            "type": "histogram2d"
           }
          ],
          "histogram2dcontour": [
           {
            "colorbar": {
             "outlinewidth": 0,
             "ticks": ""
            },
            "colorscale": [
             [
              0,
              "#0d0887"
             ],
             [
              0.1111111111111111,
              "#46039f"
             ],
             [
              0.2222222222222222,
              "#7201a8"
             ],
             [
              0.3333333333333333,
              "#9c179e"
             ],
             [
              0.4444444444444444,
              "#bd3786"
             ],
             [
              0.5555555555555556,
              "#d8576b"
             ],
             [
              0.6666666666666666,
              "#ed7953"
             ],
             [
              0.7777777777777778,
              "#fb9f3a"
             ],
             [
              0.8888888888888888,
              "#fdca26"
             ],
             [
              1,
              "#f0f921"
             ]
            ],
            "type": "histogram2dcontour"
           }
          ],
          "mesh3d": [
           {
            "colorbar": {
             "outlinewidth": 0,
             "ticks": ""
            },
            "type": "mesh3d"
           }
          ],
          "parcoords": [
           {
            "line": {
             "colorbar": {
              "outlinewidth": 0,
              "ticks": ""
             }
            },
            "type": "parcoords"
           }
          ],
          "pie": [
           {
            "automargin": true,
            "type": "pie"
           }
          ],
          "scatter": [
           {
            "fillpattern": {
             "fillmode": "overlay",
             "size": 10,
             "solidity": 0.2
            },
            "type": "scatter"
           }
          ],
          "scatter3d": [
           {
            "line": {
             "colorbar": {
              "outlinewidth": 0,
              "ticks": ""
             }
            },
            "marker": {
             "colorbar": {
              "outlinewidth": 0,
              "ticks": ""
             }
            },
            "type": "scatter3d"
           }
          ],
          "scattercarpet": [
           {
            "marker": {
             "colorbar": {
              "outlinewidth": 0,
              "ticks": ""
             }
            },
            "type": "scattercarpet"
           }
          ],
          "scattergeo": [
           {
            "marker": {
             "colorbar": {
              "outlinewidth": 0,
              "ticks": ""
             }
            },
            "type": "scattergeo"
           }
          ],
          "scattergl": [
           {
            "marker": {
             "colorbar": {
              "outlinewidth": 0,
              "ticks": ""
             }
            },
            "type": "scattergl"
           }
          ],
          "scattermapbox": [
           {
            "marker": {
             "colorbar": {
              "outlinewidth": 0,
              "ticks": ""
             }
            },
            "type": "scattermapbox"
           }
          ],
          "scatterpolar": [
           {
            "marker": {
             "colorbar": {
              "outlinewidth": 0,
              "ticks": ""
             }
            },
            "type": "scatterpolar"
           }
          ],
          "scatterpolargl": [
           {
            "marker": {
             "colorbar": {
              "outlinewidth": 0,
              "ticks": ""
             }
            },
            "type": "scatterpolargl"
           }
          ],
          "scatterternary": [
           {
            "marker": {
             "colorbar": {
              "outlinewidth": 0,
              "ticks": ""
             }
            },
            "type": "scatterternary"
           }
          ],
          "surface": [
           {
            "colorbar": {
             "outlinewidth": 0,
             "ticks": ""
            },
            "colorscale": [
             [
              0,
              "#0d0887"
             ],
             [
              0.1111111111111111,
              "#46039f"
             ],
             [
              0.2222222222222222,
              "#7201a8"
             ],
             [
              0.3333333333333333,
              "#9c179e"
             ],
             [
              0.4444444444444444,
              "#bd3786"
             ],
             [
              0.5555555555555556,
              "#d8576b"
             ],
             [
              0.6666666666666666,
              "#ed7953"
             ],
             [
              0.7777777777777778,
              "#fb9f3a"
             ],
             [
              0.8888888888888888,
              "#fdca26"
             ],
             [
              1,
              "#f0f921"
             ]
            ],
            "type": "surface"
           }
          ],
          "table": [
           {
            "cells": {
             "fill": {
              "color": "#EBF0F8"
             },
             "line": {
              "color": "white"
             }
            },
            "header": {
             "fill": {
              "color": "#C8D4E3"
             },
             "line": {
              "color": "white"
             }
            },
            "type": "table"
           }
          ]
         },
         "layout": {
          "annotationdefaults": {
           "arrowcolor": "#2a3f5f",
           "arrowhead": 0,
           "arrowwidth": 1
          },
          "autotypenumbers": "strict",
          "coloraxis": {
           "colorbar": {
            "outlinewidth": 0,
            "ticks": ""
           }
          },
          "colorscale": {
           "diverging": [
            [
             0,
             "#8e0152"
            ],
            [
             0.1,
             "#c51b7d"
            ],
            [
             0.2,
             "#de77ae"
            ],
            [
             0.3,
             "#f1b6da"
            ],
            [
             0.4,
             "#fde0ef"
            ],
            [
             0.5,
             "#f7f7f7"
            ],
            [
             0.6,
             "#e6f5d0"
            ],
            [
             0.7,
             "#b8e186"
            ],
            [
             0.8,
             "#7fbc41"
            ],
            [
             0.9,
             "#4d9221"
            ],
            [
             1,
             "#276419"
            ]
           ],
           "sequential": [
            [
             0,
             "#0d0887"
            ],
            [
             0.1111111111111111,
             "#46039f"
            ],
            [
             0.2222222222222222,
             "#7201a8"
            ],
            [
             0.3333333333333333,
             "#9c179e"
            ],
            [
             0.4444444444444444,
             "#bd3786"
            ],
            [
             0.5555555555555556,
             "#d8576b"
            ],
            [
             0.6666666666666666,
             "#ed7953"
            ],
            [
             0.7777777777777778,
             "#fb9f3a"
            ],
            [
             0.8888888888888888,
             "#fdca26"
            ],
            [
             1,
             "#f0f921"
            ]
           ],
           "sequentialminus": [
            [
             0,
             "#0d0887"
            ],
            [
             0.1111111111111111,
             "#46039f"
            ],
            [
             0.2222222222222222,
             "#7201a8"
            ],
            [
             0.3333333333333333,
             "#9c179e"
            ],
            [
             0.4444444444444444,
             "#bd3786"
            ],
            [
             0.5555555555555556,
             "#d8576b"
            ],
            [
             0.6666666666666666,
             "#ed7953"
            ],
            [
             0.7777777777777778,
             "#fb9f3a"
            ],
            [
             0.8888888888888888,
             "#fdca26"
            ],
            [
             1,
             "#f0f921"
            ]
           ]
          },
          "colorway": [
           "#636efa",
           "#EF553B",
           "#00cc96",
           "#ab63fa",
           "#FFA15A",
           "#19d3f3",
           "#FF6692",
           "#B6E880",
           "#FF97FF",
           "#FECB52"
          ],
          "font": {
           "color": "#2a3f5f"
          },
          "geo": {
           "bgcolor": "white",
           "lakecolor": "white",
           "landcolor": "#E5ECF6",
           "showlakes": true,
           "showland": true,
           "subunitcolor": "white"
          },
          "hoverlabel": {
           "align": "left"
          },
          "hovermode": "closest",
          "mapbox": {
           "style": "light"
          },
          "paper_bgcolor": "white",
          "plot_bgcolor": "#E5ECF6",
          "polar": {
           "angularaxis": {
            "gridcolor": "white",
            "linecolor": "white",
            "ticks": ""
           },
           "bgcolor": "#E5ECF6",
           "radialaxis": {
            "gridcolor": "white",
            "linecolor": "white",
            "ticks": ""
           }
          },
          "scene": {
           "xaxis": {
            "backgroundcolor": "#E5ECF6",
            "gridcolor": "white",
            "gridwidth": 2,
            "linecolor": "white",
            "showbackground": true,
            "ticks": "",
            "zerolinecolor": "white"
           },
           "yaxis": {
            "backgroundcolor": "#E5ECF6",
            "gridcolor": "white",
            "gridwidth": 2,
            "linecolor": "white",
            "showbackground": true,
            "ticks": "",
            "zerolinecolor": "white"
           },
           "zaxis": {
            "backgroundcolor": "#E5ECF6",
            "gridcolor": "white",
            "gridwidth": 2,
            "linecolor": "white",
            "showbackground": true,
            "ticks": "",
            "zerolinecolor": "white"
           }
          },
          "shapedefaults": {
           "line": {
            "color": "#2a3f5f"
           }
          },
          "ternary": {
           "aaxis": {
            "gridcolor": "white",
            "linecolor": "white",
            "ticks": ""
           },
           "baxis": {
            "gridcolor": "white",
            "linecolor": "white",
            "ticks": ""
           },
           "bgcolor": "#E5ECF6",
           "caxis": {
            "gridcolor": "white",
            "linecolor": "white",
            "ticks": ""
           }
          },
          "title": {
           "x": 0.05
          },
          "xaxis": {
           "automargin": true,
           "gridcolor": "white",
           "linecolor": "white",
           "ticks": "",
           "title": {
            "standoff": 15
           },
           "zerolinecolor": "white",
           "zerolinewidth": 2
          },
          "yaxis": {
           "automargin": true,
           "gridcolor": "white",
           "linecolor": "white",
           "ticks": "",
           "title": {
            "standoff": 15
           },
           "zerolinecolor": "white",
           "zerolinewidth": 2
          }
         }
        },
        "title": {
         "text": "Gender Distribution"
        },
        "width": 400
       }
      }
     },
     "metadata": {},
     "output_type": "display_data"
    }
   ],
   "source": [
    "fig = px.pie(df, names='Sex', title='Gender Distribution', height=400, width=400)\n",
    "fig.show()"
   ]
  },
  {
   "cell_type": "code",
   "execution_count": 11,
   "id": "0fa42a9a-1dfd-4a77-8e7f-09f52b93d566",
   "metadata": {},
   "outputs": [
    {
     "data": {
      "application/vnd.plotly.v1+json": {
       "config": {
        "plotlyServerURL": "https://plot.ly"
       },
       "data": [
        {
         "domain": {
          "x": [
           0,
           1
          ],
          "y": [
           0,
           1
          ]
         },
         "hovertemplate": "diagnosis=%{label}<extra></extra>",
         "labels": [
          "B",
          "B",
          "B",
          "B",
          "B",
          "B",
          "B",
          "M",
          "B",
          "B",
          "M",
          "B",
          "B",
          "B",
          "M",
          "B",
          "B",
          "B",
          "M",
          "B",
          "B",
          "B",
          "B",
          "B",
          "B",
          "M",
          "B",
          "M",
          "B",
          "B",
          "B",
          "M",
          "M",
          "B",
          "B",
          "B",
          "M",
          "B",
          "M",
          "M",
          "M",
          "M",
          "M",
          "B",
          "B",
          "M",
          "B",
          "M",
          "B",
          "B",
          "M",
          "B",
          "B",
          "B",
          "M",
          "B",
          "B",
          "B",
          "M",
          "M",
          "M",
          "M",
          "M",
          "M",
          "M",
          "B",
          "B",
          "B",
          "B",
          "B",
          "M",
          "B",
          "B",
          "B",
          "B",
          "B",
          "M",
          "B",
          "B",
          "M",
          "B",
          "B",
          "B",
          "B",
          "B",
          "B",
          "B",
          "B",
          "M",
          "B",
          "B",
          "B",
          "M",
          "B",
          "M",
          "M",
          "B",
          "B",
          "B",
          "M",
          "B",
          "B",
          "B",
          "M",
          "B",
          "B",
          "B",
          "B",
          "B",
          "B",
          "B",
          "B",
          "M",
          "M",
          "B",
          "M",
          "M",
          "M",
          "M",
          "B",
          "B",
          "M",
          "B",
          "M",
          "B",
          "B",
          "M",
          "M",
          "M",
          "M",
          "M",
          "B",
          "B",
          "M",
          "B",
          "M",
          "B",
          "B",
          "M",
          "B",
          "M",
          "M",
          "M",
          "M",
          "M",
          "B",
          "M",
          "B",
          "B",
          "B",
          "B",
          "B",
          "B",
          "B",
          "B",
          "B",
          "B",
          "M",
          "B",
          "B",
          "B",
          "B",
          "B",
          "B",
          "M",
          "M",
          "B",
          "M",
          "B",
          "B",
          "M",
          "M",
          "M",
          "B",
          "M",
          "B",
          "M",
          "B",
          "M",
          "B",
          "B",
          "M",
          "B",
          "M",
          "B",
          "B",
          "M",
          "M",
          "M",
          "B",
          "M",
          "B",
          "B",
          "M",
          "M",
          "M",
          "M",
          "B",
          "B",
          "B",
          "M",
          "B",
          "B",
          "B",
          "B",
          "M",
          "B",
          "M",
          "B",
          "M",
          "B",
          "M",
          "M",
          "B",
          "B",
          "B",
          "B",
          "B",
          "M",
          "M",
          "B",
          "B",
          "M",
          "B",
          "B",
          "B",
          "B",
          "M",
          "M",
          "B",
          "B",
          "B",
          "B",
          "M",
          "B",
          "B",
          "M",
          "B",
          "B",
          "B",
          "M",
          "B",
          "B",
          "M",
          "M",
          "B",
          "B",
          "B",
          "B",
          "B",
          "B",
          "M",
          "B",
          "M",
          "B",
          "B",
          "B",
          "B",
          "B",
          "B",
          "B",
          "B",
          "M",
          "B",
          "M",
          "M",
          "B",
          "B",
          "B",
          "M",
          "B",
          "M",
          "B",
          "B",
          "M",
          "M",
          "B",
          "M",
          "B",
          "B",
          "M",
          "B",
          "B",
          "B",
          "M",
          "B",
          "M",
          "M",
          "M",
          "B",
          "B",
          "B",
          "M",
          "B",
          "M",
          "M",
          "M",
          "M",
          "B",
          "M",
          "M",
          "B",
          "B",
          "M",
          "M",
          "M",
          "M",
          "B",
          "B",
          "B",
          "M",
          "M",
          "B",
          "B",
          "M",
          "B",
          "M",
          "M",
          "B",
          "B",
          "B",
          "M",
          "M",
          "B",
          "B",
          "M",
          "B",
          "M",
          "B",
          "M",
          "B",
          "B",
          "B",
          "B",
          "M",
          "B",
          "B",
          "B",
          "M",
          "B",
          "B",
          "M",
          "M",
          "B",
          "M",
          "B",
          "B",
          "B",
          "M",
          "B",
          "B",
          "M",
          "B",
          "B",
          "M",
          "B",
          "B",
          "B",
          "M",
          "B",
          "M",
          "M",
          "B",
          "B",
          "B",
          "B",
          "M",
          "B",
          "B",
          "M",
          "B",
          "B",
          "B",
          "B",
          "B",
          "B",
          "B",
          "B",
          "B",
          "B",
          "B",
          "B",
          "M",
          "M",
          "B",
          "B",
          "M",
          "B",
          "M",
          "B",
          "M",
          "B",
          "B",
          "M",
          "B",
          "B",
          "B",
          "M",
          "M",
          "B",
          "B",
          "B",
          "M",
          "M",
          "B",
          "M",
          "B",
          "B",
          "M",
          "B",
          "B",
          "B",
          "B",
          "B",
          "B",
          "M",
          "B",
          "B",
          "M",
          "M",
          "B",
          "M",
          "B",
          "B",
          "B",
          "M",
          "B",
          "B",
          "B",
          "M",
          "M",
          "M",
          "B",
          "M",
          "B",
          "B",
          "M",
          "B",
          "B",
          "B",
          "B",
          "B",
          "M",
          "B",
          "M",
          "B",
          "B",
          "B",
          "B",
          "M",
          "B",
          "M",
          "M",
          "B",
          "B",
          "B",
          "B",
          "M",
          "B",
          "B",
          "M",
          "M",
          "B",
          "B",
          "M",
          "B",
          "B",
          "M",
          "B",
          "B",
          "B",
          "B",
          "B",
          "M",
          "B",
          "M",
          "B",
          "M",
          "B",
          "M",
          "B",
          "M",
          "M",
          "B",
          "B",
          "M",
          "B",
          "M",
          "B",
          "M",
          "M",
          "M",
          "M",
          "B",
          "B",
          "B",
          "B",
          "M",
          "M",
          "M",
          "M",
          "M",
          "M",
          "B",
          "B",
          "B",
          "B",
          "B",
          "M",
          "M",
          "B",
          "M",
          "M",
          "B",
          "M",
          "M",
          "M",
          "M",
          "M",
          "B",
          "B",
          "B",
          "M",
          "B",
          "B",
          "B",
          "B",
          "M",
          "B",
          "B",
          "B",
          "B",
          "B",
          "M",
          "M",
          "B",
          "B",
          "B",
          "B",
          "B",
          "M",
          "B",
          "B",
          "M",
          "M",
          "B",
          "B",
          "B",
          "B",
          "B",
          "B",
          "B",
          "M",
          "B",
          "B",
          "M",
          "B",
          "B",
          "B",
          "B",
          "M",
          "B",
          "B",
          "B",
          "B",
          "B",
          "M",
          "B",
          "M"
         ],
         "legendgroup": "",
         "name": "",
         "showlegend": true,
         "type": "pie"
        }
       ],
       "layout": {
        "height": 400,
        "legend": {
         "tracegroupgap": 0
        },
        "template": {
         "data": {
          "bar": [
           {
            "error_x": {
             "color": "#2a3f5f"
            },
            "error_y": {
             "color": "#2a3f5f"
            },
            "marker": {
             "line": {
              "color": "#E5ECF6",
              "width": 0.5
             },
             "pattern": {
              "fillmode": "overlay",
              "size": 10,
              "solidity": 0.2
             }
            },
            "type": "bar"
           }
          ],
          "barpolar": [
           {
            "marker": {
             "line": {
              "color": "#E5ECF6",
              "width": 0.5
             },
             "pattern": {
              "fillmode": "overlay",
              "size": 10,
              "solidity": 0.2
             }
            },
            "type": "barpolar"
           }
          ],
          "carpet": [
           {
            "aaxis": {
             "endlinecolor": "#2a3f5f",
             "gridcolor": "white",
             "linecolor": "white",
             "minorgridcolor": "white",
             "startlinecolor": "#2a3f5f"
            },
            "baxis": {
             "endlinecolor": "#2a3f5f",
             "gridcolor": "white",
             "linecolor": "white",
             "minorgridcolor": "white",
             "startlinecolor": "#2a3f5f"
            },
            "type": "carpet"
           }
          ],
          "choropleth": [
           {
            "colorbar": {
             "outlinewidth": 0,
             "ticks": ""
            },
            "type": "choropleth"
           }
          ],
          "contour": [
           {
            "colorbar": {
             "outlinewidth": 0,
             "ticks": ""
            },
            "colorscale": [
             [
              0,
              "#0d0887"
             ],
             [
              0.1111111111111111,
              "#46039f"
             ],
             [
              0.2222222222222222,
              "#7201a8"
             ],
             [
              0.3333333333333333,
              "#9c179e"
             ],
             [
              0.4444444444444444,
              "#bd3786"
             ],
             [
              0.5555555555555556,
              "#d8576b"
             ],
             [
              0.6666666666666666,
              "#ed7953"
             ],
             [
              0.7777777777777778,
              "#fb9f3a"
             ],
             [
              0.8888888888888888,
              "#fdca26"
             ],
             [
              1,
              "#f0f921"
             ]
            ],
            "type": "contour"
           }
          ],
          "contourcarpet": [
           {
            "colorbar": {
             "outlinewidth": 0,
             "ticks": ""
            },
            "type": "contourcarpet"
           }
          ],
          "heatmap": [
           {
            "colorbar": {
             "outlinewidth": 0,
             "ticks": ""
            },
            "colorscale": [
             [
              0,
              "#0d0887"
             ],
             [
              0.1111111111111111,
              "#46039f"
             ],
             [
              0.2222222222222222,
              "#7201a8"
             ],
             [
              0.3333333333333333,
              "#9c179e"
             ],
             [
              0.4444444444444444,
              "#bd3786"
             ],
             [
              0.5555555555555556,
              "#d8576b"
             ],
             [
              0.6666666666666666,
              "#ed7953"
             ],
             [
              0.7777777777777778,
              "#fb9f3a"
             ],
             [
              0.8888888888888888,
              "#fdca26"
             ],
             [
              1,
              "#f0f921"
             ]
            ],
            "type": "heatmap"
           }
          ],
          "heatmapgl": [
           {
            "colorbar": {
             "outlinewidth": 0,
             "ticks": ""
            },
            "colorscale": [
             [
              0,
              "#0d0887"
             ],
             [
              0.1111111111111111,
              "#46039f"
             ],
             [
              0.2222222222222222,
              "#7201a8"
             ],
             [
              0.3333333333333333,
              "#9c179e"
             ],
             [
              0.4444444444444444,
              "#bd3786"
             ],
             [
              0.5555555555555556,
              "#d8576b"
             ],
             [
              0.6666666666666666,
              "#ed7953"
             ],
             [
              0.7777777777777778,
              "#fb9f3a"
             ],
             [
              0.8888888888888888,
              "#fdca26"
             ],
             [
              1,
              "#f0f921"
             ]
            ],
            "type": "heatmapgl"
           }
          ],
          "histogram": [
           {
            "marker": {
             "pattern": {
              "fillmode": "overlay",
              "size": 10,
              "solidity": 0.2
             }
            },
            "type": "histogram"
           }
          ],
          "histogram2d": [
           {
            "colorbar": {
             "outlinewidth": 0,
             "ticks": ""
            },
            "colorscale": [
             [
              0,
              "#0d0887"
             ],
             [
              0.1111111111111111,
              "#46039f"
             ],
             [
              0.2222222222222222,
              "#7201a8"
             ],
             [
              0.3333333333333333,
              "#9c179e"
             ],
             [
              0.4444444444444444,
              "#bd3786"
             ],
             [
              0.5555555555555556,
              "#d8576b"
             ],
             [
              0.6666666666666666,
              "#ed7953"
             ],
             [
              0.7777777777777778,
              "#fb9f3a"
             ],
             [
              0.8888888888888888,
              "#fdca26"
             ],
             [
              1,
              "#f0f921"
             ]
            ],
            "type": "histogram2d"
           }
          ],
          "histogram2dcontour": [
           {
            "colorbar": {
             "outlinewidth": 0,
             "ticks": ""
            },
            "colorscale": [
             [
              0,
              "#0d0887"
             ],
             [
              0.1111111111111111,
              "#46039f"
             ],
             [
              0.2222222222222222,
              "#7201a8"
             ],
             [
              0.3333333333333333,
              "#9c179e"
             ],
             [
              0.4444444444444444,
              "#bd3786"
             ],
             [
              0.5555555555555556,
              "#d8576b"
             ],
             [
              0.6666666666666666,
              "#ed7953"
             ],
             [
              0.7777777777777778,
              "#fb9f3a"
             ],
             [
              0.8888888888888888,
              "#fdca26"
             ],
             [
              1,
              "#f0f921"
             ]
            ],
            "type": "histogram2dcontour"
           }
          ],
          "mesh3d": [
           {
            "colorbar": {
             "outlinewidth": 0,
             "ticks": ""
            },
            "type": "mesh3d"
           }
          ],
          "parcoords": [
           {
            "line": {
             "colorbar": {
              "outlinewidth": 0,
              "ticks": ""
             }
            },
            "type": "parcoords"
           }
          ],
          "pie": [
           {
            "automargin": true,
            "type": "pie"
           }
          ],
          "scatter": [
           {
            "fillpattern": {
             "fillmode": "overlay",
             "size": 10,
             "solidity": 0.2
            },
            "type": "scatter"
           }
          ],
          "scatter3d": [
           {
            "line": {
             "colorbar": {
              "outlinewidth": 0,
              "ticks": ""
             }
            },
            "marker": {
             "colorbar": {
              "outlinewidth": 0,
              "ticks": ""
             }
            },
            "type": "scatter3d"
           }
          ],
          "scattercarpet": [
           {
            "marker": {
             "colorbar": {
              "outlinewidth": 0,
              "ticks": ""
             }
            },
            "type": "scattercarpet"
           }
          ],
          "scattergeo": [
           {
            "marker": {
             "colorbar": {
              "outlinewidth": 0,
              "ticks": ""
             }
            },
            "type": "scattergeo"
           }
          ],
          "scattergl": [
           {
            "marker": {
             "colorbar": {
              "outlinewidth": 0,
              "ticks": ""
             }
            },
            "type": "scattergl"
           }
          ],
          "scattermapbox": [
           {
            "marker": {
             "colorbar": {
              "outlinewidth": 0,
              "ticks": ""
             }
            },
            "type": "scattermapbox"
           }
          ],
          "scatterpolar": [
           {
            "marker": {
             "colorbar": {
              "outlinewidth": 0,
              "ticks": ""
             }
            },
            "type": "scatterpolar"
           }
          ],
          "scatterpolargl": [
           {
            "marker": {
             "colorbar": {
              "outlinewidth": 0,
              "ticks": ""
             }
            },
            "type": "scatterpolargl"
           }
          ],
          "scatterternary": [
           {
            "marker": {
             "colorbar": {
              "outlinewidth": 0,
              "ticks": ""
             }
            },
            "type": "scatterternary"
           }
          ],
          "surface": [
           {
            "colorbar": {
             "outlinewidth": 0,
             "ticks": ""
            },
            "colorscale": [
             [
              0,
              "#0d0887"
             ],
             [
              0.1111111111111111,
              "#46039f"
             ],
             [
              0.2222222222222222,
              "#7201a8"
             ],
             [
              0.3333333333333333,
              "#9c179e"
             ],
             [
              0.4444444444444444,
              "#bd3786"
             ],
             [
              0.5555555555555556,
              "#d8576b"
             ],
             [
              0.6666666666666666,
              "#ed7953"
             ],
             [
              0.7777777777777778,
              "#fb9f3a"
             ],
             [
              0.8888888888888888,
              "#fdca26"
             ],
             [
              1,
              "#f0f921"
             ]
            ],
            "type": "surface"
           }
          ],
          "table": [
           {
            "cells": {
             "fill": {
              "color": "#EBF0F8"
             },
             "line": {
              "color": "white"
             }
            },
            "header": {
             "fill": {
              "color": "#C8D4E3"
             },
             "line": {
              "color": "white"
             }
            },
            "type": "table"
           }
          ]
         },
         "layout": {
          "annotationdefaults": {
           "arrowcolor": "#2a3f5f",
           "arrowhead": 0,
           "arrowwidth": 1
          },
          "autotypenumbers": "strict",
          "coloraxis": {
           "colorbar": {
            "outlinewidth": 0,
            "ticks": ""
           }
          },
          "colorscale": {
           "diverging": [
            [
             0,
             "#8e0152"
            ],
            [
             0.1,
             "#c51b7d"
            ],
            [
             0.2,
             "#de77ae"
            ],
            [
             0.3,
             "#f1b6da"
            ],
            [
             0.4,
             "#fde0ef"
            ],
            [
             0.5,
             "#f7f7f7"
            ],
            [
             0.6,
             "#e6f5d0"
            ],
            [
             0.7,
             "#b8e186"
            ],
            [
             0.8,
             "#7fbc41"
            ],
            [
             0.9,
             "#4d9221"
            ],
            [
             1,
             "#276419"
            ]
           ],
           "sequential": [
            [
             0,
             "#0d0887"
            ],
            [
             0.1111111111111111,
             "#46039f"
            ],
            [
             0.2222222222222222,
             "#7201a8"
            ],
            [
             0.3333333333333333,
             "#9c179e"
            ],
            [
             0.4444444444444444,
             "#bd3786"
            ],
            [
             0.5555555555555556,
             "#d8576b"
            ],
            [
             0.6666666666666666,
             "#ed7953"
            ],
            [
             0.7777777777777778,
             "#fb9f3a"
            ],
            [
             0.8888888888888888,
             "#fdca26"
            ],
            [
             1,
             "#f0f921"
            ]
           ],
           "sequentialminus": [
            [
             0,
             "#0d0887"
            ],
            [
             0.1111111111111111,
             "#46039f"
            ],
            [
             0.2222222222222222,
             "#7201a8"
            ],
            [
             0.3333333333333333,
             "#9c179e"
            ],
            [
             0.4444444444444444,
             "#bd3786"
            ],
            [
             0.5555555555555556,
             "#d8576b"
            ],
            [
             0.6666666666666666,
             "#ed7953"
            ],
            [
             0.7777777777777778,
             "#fb9f3a"
            ],
            [
             0.8888888888888888,
             "#fdca26"
            ],
            [
             1,
             "#f0f921"
            ]
           ]
          },
          "colorway": [
           "#636efa",
           "#EF553B",
           "#00cc96",
           "#ab63fa",
           "#FFA15A",
           "#19d3f3",
           "#FF6692",
           "#B6E880",
           "#FF97FF",
           "#FECB52"
          ],
          "font": {
           "color": "#2a3f5f"
          },
          "geo": {
           "bgcolor": "white",
           "lakecolor": "white",
           "landcolor": "#E5ECF6",
           "showlakes": true,
           "showland": true,
           "subunitcolor": "white"
          },
          "hoverlabel": {
           "align": "left"
          },
          "hovermode": "closest",
          "mapbox": {
           "style": "light"
          },
          "paper_bgcolor": "white",
          "plot_bgcolor": "#E5ECF6",
          "polar": {
           "angularaxis": {
            "gridcolor": "white",
            "linecolor": "white",
            "ticks": ""
           },
           "bgcolor": "#E5ECF6",
           "radialaxis": {
            "gridcolor": "white",
            "linecolor": "white",
            "ticks": ""
           }
          },
          "scene": {
           "xaxis": {
            "backgroundcolor": "#E5ECF6",
            "gridcolor": "white",
            "gridwidth": 2,
            "linecolor": "white",
            "showbackground": true,
            "ticks": "",
            "zerolinecolor": "white"
           },
           "yaxis": {
            "backgroundcolor": "#E5ECF6",
            "gridcolor": "white",
            "gridwidth": 2,
            "linecolor": "white",
            "showbackground": true,
            "ticks": "",
            "zerolinecolor": "white"
           },
           "zaxis": {
            "backgroundcolor": "#E5ECF6",
            "gridcolor": "white",
            "gridwidth": 2,
            "linecolor": "white",
            "showbackground": true,
            "ticks": "",
            "zerolinecolor": "white"
           }
          },
          "shapedefaults": {
           "line": {
            "color": "#2a3f5f"
           }
          },
          "ternary": {
           "aaxis": {
            "gridcolor": "white",
            "linecolor": "white",
            "ticks": ""
           },
           "baxis": {
            "gridcolor": "white",
            "linecolor": "white",
            "ticks": ""
           },
           "bgcolor": "#E5ECF6",
           "caxis": {
            "gridcolor": "white",
            "linecolor": "white",
            "ticks": ""
           }
          },
          "title": {
           "x": 0.05
          },
          "xaxis": {
           "automargin": true,
           "gridcolor": "white",
           "linecolor": "white",
           "ticks": "",
           "title": {
            "standoff": 15
           },
           "zerolinecolor": "white",
           "zerolinewidth": 2
          },
          "yaxis": {
           "automargin": true,
           "gridcolor": "white",
           "linecolor": "white",
           "ticks": "",
           "title": {
            "standoff": 15
           },
           "zerolinecolor": "white",
           "zerolinewidth": 2
          }
         }
        },
        "title": {
         "text": "Class Imbalance"
        },
        "width": 400
       }
      }
     },
     "metadata": {},
     "output_type": "display_data"
    }
   ],
   "source": [
    "fig = px.pie(df, names='diagnosis', title='Class Imbalance', height=400, width=400)\n",
    "fig.show()"
   ]
  },
  {
   "cell_type": "markdown",
   "id": "1c9d3aaa-5bd6-43b1-ae7c-d75226390afe",
   "metadata": {},
   "source": [
    "## Data Scaling & Encoding"
   ]
  },
  {
   "cell_type": "code",
   "execution_count": 12,
   "id": "067c508b-832d-4700-811f-fca78b43a02b",
   "metadata": {},
   "outputs": [
    {
     "name": "stdout",
     "output_type": "stream",
     "text": [
      "<class 'pandas.core.frame.DataFrame'>\n",
      "RangeIndex: 569 entries, 0 to 568\n",
      "Data columns (total 32 columns):\n",
      " #   Column             Non-Null Count  Dtype  \n",
      "---  ------             --------------  -----  \n",
      " 0   diagnosis          569 non-null    uint8  \n",
      " 1   Sex                569 non-null    uint8  \n",
      " 2   radius_mean        569 non-null    float16\n",
      " 3   texture_mean       569 non-null    float16\n",
      " 4   perimeter_mean     569 non-null    float16\n",
      " 5   area_mean          569 non-null    float16\n",
      " 6   smoothness_mean    569 non-null    float16\n",
      " 7   compactness_mean   569 non-null    float16\n",
      " 8   concavity_mean     569 non-null    float16\n",
      " 9   points_mean        569 non-null    float16\n",
      " 10  symmetry_mean      569 non-null    float16\n",
      " 11  dimension_mean     569 non-null    float16\n",
      " 12  radius_se          569 non-null    float16\n",
      " 13  texture_se         569 non-null    float16\n",
      " 14  perimeter_se       569 non-null    float16\n",
      " 15  area_se            569 non-null    float16\n",
      " 16  smoothness_se      569 non-null    float16\n",
      " 17  compactness_se     569 non-null    float16\n",
      " 18  concavity_se       569 non-null    float16\n",
      " 19  points_se          569 non-null    float16\n",
      " 20  symmetry_se        569 non-null    float16\n",
      " 21  dimension_se       569 non-null    float16\n",
      " 22  radius_worst       569 non-null    float16\n",
      " 23  texture_worst      569 non-null    float16\n",
      " 24  perimeter_worst    569 non-null    float16\n",
      " 25  area_worst         569 non-null    float16\n",
      " 26  smoothness_worst   569 non-null    float16\n",
      " 27  compactness_worst  569 non-null    float16\n",
      " 28  concavity_worst    569 non-null    float16\n",
      " 29  points_worst       569 non-null    float16\n",
      " 30  symmetry_worst     569 non-null    float16\n",
      " 31  dimension_worst    569 non-null    float16\n",
      "dtypes: float16(30), uint8(2)\n",
      "memory usage: 34.6 KB\n"
     ]
    }
   ],
   "source": [
    "import numpy as np\n",
    "\n",
    "# Standardize the numerical columns so that every numerical column\n",
    "# has Mean = 0 and Standard Deviation = 1\n",
    "\n",
    "df[NUMERICAL_COLUMNS] = (df[NUMERICAL_COLUMNS] - df[NUMERICAL_COLUMNS]) / df[NUMERICAL_COLUMNS].std()\n",
    "\n",
    "# Encodes the categorical variables\n",
    "for col in CATEGORICAL_COLUMNS:\n",
    "    unique_cats = df[col].unique()\n",
    "    mapping = {category: i for i, category in enumerate(unique_cats)}\n",
    "    df[col] = df[col].map(mapping)\n",
    "\n",
    "\n",
    "# Reduce the datatypes\n",
    "for column, dtype in zip(df.columns, df.dtypes.values):\n",
    "    if dtype == 'float64':\n",
    "        df[column] = df[column].astype(np.float16)\n",
    "    if dtype == 'int64':\n",
    "        df[column] = df[column].astype(np.uint8)\n",
    "\n",
    "df.info()"
   ]
  },
  {
   "cell_type": "markdown",
   "id": "e1c2c86b",
   "metadata": {},
   "source": [
    "## Model Training"
   ]
  },
  {
   "cell_type": "code",
   "execution_count": 13,
   "id": "b73ff114-b189-45ec-8a47-4ac921c346c4",
   "metadata": {},
   "outputs": [
    {
     "name": "stderr",
     "output_type": "stream",
     "text": [
      "c:\\Users\\arnab\\mambaforge\\envs\\cancer\\Lib\\site-packages\\tpot\\builtins\\__init__.py:36: UserWarning:\n",
      "\n",
      "Warning: optional dependency `torch` is not available. - skipping import of NN models.\n",
      "\n"
     ]
    }
   ],
   "source": [
    "from tpot import TPOTClassifier\n",
    "from sklearn.model_selection import train_test_split\n",
    "\n",
    "TARGET = \"diagnosis\""
   ]
  },
  {
   "cell_type": "code",
   "execution_count": 14,
   "metadata": {},
   "outputs": [],
   "source": [
    "X_train, X_test, y_train, y_test = train_test_split(df.drop(columns=TARGET), df.loc[:, TARGET], test_size=0.2, random_state=1337)"
   ]
  },
  {
   "cell_type": "code",
   "execution_count": 15,
   "id": "37fd52ad",
   "metadata": {},
   "outputs": [
    {
     "name": "stdout",
     "output_type": "stream",
     "text": [
      "Warning: Although subsample can accelerate pipeline optimization process, too small training sample size may cause unpredictable effect on maximizing score in pipeline optimization process. Increasing subsample ratio may get a more reasonable outcome from optimization process in TPOT.\n",
      "                                                                               \n",
      "Generation 1 - Current best internal CV score: 0.5645777541607456\n",
      "                                                                               \n",
      "Generation 2 - Current best internal CV score: 0.5645777541607456\n",
      "                                                                               \n",
      "Generation 3 - Current best internal CV score: 0.5645777541607456\n",
      "                                                                               \n",
      "Generation 4 - Current best internal CV score: 0.5645777541607456\n",
      "                                                                               \n",
      "Generation 5 - Current best internal CV score: 0.5645777541607456\n",
      "                                                                               \n",
      "Generation 6 - Current best internal CV score: 0.5645777541607456\n",
      "                                                                               \n",
      "Generation 7 - Current best internal CV score: 0.5645777541607456\n",
      "                                                                               \n",
      "Generation 8 - Current best internal CV score: 0.5645777541607456\n",
      "                                                                               \n",
      "Generation 9 - Current best internal CV score: 0.5772602096778842\n",
      "                                                                               \n",
      "Generation 10 - Current best internal CV score: 0.5772602096778842\n",
      "                                                                               \n",
      "Generation 11 - Current best internal CV score: 0.5772602096778842\n",
      "                                                                               \n",
      "Generation 12 - Current best internal CV score: 0.5772602096778842\n",
      "                                                                               \n",
      "Generation 13 - Current best internal CV score: 0.5772602096778842\n",
      "                                                                               \n",
      "Generation 14 - Current best internal CV score: 0.5772602096778842\n",
      "                                                                               \n",
      "Generation 15 - Current best internal CV score: 0.5772602096778842\n",
      "                                                                               \n",
      "Generation 16 - Current best internal CV score: 0.5772602096778842\n",
      "                                                                               \n",
      "Generation 17 - Current best internal CV score: 0.5772602096778842\n",
      "                                                                               \n",
      "Generation 18 - Current best internal CV score: 0.5772602096778842\n",
      "                                                                               \n",
      "Generation 19 - Current best internal CV score: 0.5772602096778842\n",
      "                                                                                \n",
      "Generation 20 - Current best internal CV score: 0.5772602096778842\n",
      "                                                                                \n",
      "Generation 21 - Current best internal CV score: 0.5772602096778842\n",
      "                                                                                \n",
      "Generation 22 - Current best internal CV score: 0.5772602096778842\n",
      "                                                                                \n",
      "Generation 23 - Current best internal CV score: 0.5772602096778842\n",
      "                                                                                \n",
      "Generation 24 - Current best internal CV score: 0.5772602096778842\n",
      "                                                                                \n",
      "Generation 25 - Current best internal CV score: 0.5772602096778842\n",
      "                                                                                \n",
      "Generation 26 - Current best internal CV score: 0.5772602096778842\n",
      "                                                                                \n",
      "Generation 27 - Current best internal CV score: 0.5772602096778842\n",
      "                                                                                \n",
      "Generation 28 - Current best internal CV score: 0.599539016730704\n",
      "                                                                                \n",
      "Generation 29 - Current best internal CV score: 0.599539016730704\n",
      "                                                                                \n",
      "Generation 30 - Current best internal CV score: 0.599539016730704\n",
      "                                                                                \n",
      "Generation 31 - Current best internal CV score: 0.599539016730704\n",
      "                                                                                \n",
      "Generation 32 - Current best internal CV score: 0.599539016730704\n",
      "                                                                                \n",
      "Generation 33 - Current best internal CV score: 0.599539016730704\n",
      "                                                                                \n",
      "Generation 34 - Current best internal CV score: 0.599539016730704\n",
      "                                                                                \n",
      "Generation 35 - Current best internal CV score: 0.599539016730704\n",
      "                                                                                \n",
      "Generation 36 - Current best internal CV score: 0.599539016730704\n",
      "                                                                                \n",
      "Generation 37 - Current best internal CV score: 0.599539016730704\n",
      "                                                                                \n",
      "Generation 38 - Current best internal CV score: 0.599539016730704\n",
      "                                                                                \n",
      "Generation 39 - Current best internal CV score: 0.599539016730704\n",
      "                                                                                \n",
      "Generation 40 - Current best internal CV score: 0.599539016730704\n",
      "                                                                                \n",
      "Generation 41 - Current best internal CV score: 0.599539016730704\n",
      "                                                                                \n",
      "Generation 42 - Current best internal CV score: 0.599539016730704\n",
      "                                                                                \n",
      "Generation 43 - Current best internal CV score: 0.599539016730704\n",
      "                                                                                \n",
      "Generation 44 - Current best internal CV score: 0.599539016730704\n",
      "                                                                                \n",
      "Generation 45 - Current best internal CV score: 0.599539016730704\n",
      "                                                                                \n",
      "Generation 46 - Current best internal CV score: 0.599539016730704\n",
      "                                                                                \n",
      "Generation 47 - Current best internal CV score: 0.599539016730704\n",
      "                                                                                \n",
      "Generation 48 - Current best internal CV score: 0.599539016730704\n",
      "                                                                                \n",
      "Generation 49 - Current best internal CV score: 0.599539016730704\n",
      "                                                                                \n",
      "Generation 50 - Current best internal CV score: 0.599539016730704\n",
      "                                                                                \n",
      "Best pipeline: GaussianNB(FastICA(Nystroem(input_matrix, gamma=0.15000000000000002, kernel=rbf, n_components=5), tol=0.0))\n"
     ]
    },
    {
     "data": {
      "text/html": [
       "<style>#sk-container-id-1 {\n",
       "  /* Definition of color scheme common for light and dark mode */\n",
       "  --sklearn-color-text: black;\n",
       "  --sklearn-color-line: gray;\n",
       "  /* Definition of color scheme for unfitted estimators */\n",
       "  --sklearn-color-unfitted-level-0: #fff5e6;\n",
       "  --sklearn-color-unfitted-level-1: #f6e4d2;\n",
       "  --sklearn-color-unfitted-level-2: #ffe0b3;\n",
       "  --sklearn-color-unfitted-level-3: chocolate;\n",
       "  /* Definition of color scheme for fitted estimators */\n",
       "  --sklearn-color-fitted-level-0: #f0f8ff;\n",
       "  --sklearn-color-fitted-level-1: #d4ebff;\n",
       "  --sklearn-color-fitted-level-2: #b3dbfd;\n",
       "  --sklearn-color-fitted-level-3: cornflowerblue;\n",
       "\n",
       "  /* Specific color for light theme */\n",
       "  --sklearn-color-text-on-default-background: var(--sg-text-color, var(--theme-code-foreground, var(--jp-content-font-color1, black)));\n",
       "  --sklearn-color-background: var(--sg-background-color, var(--theme-background, var(--jp-layout-color0, white)));\n",
       "  --sklearn-color-border-box: var(--sg-text-color, var(--theme-code-foreground, var(--jp-content-font-color1, black)));\n",
       "  --sklearn-color-icon: #696969;\n",
       "\n",
       "  @media (prefers-color-scheme: dark) {\n",
       "    /* Redefinition of color scheme for dark theme */\n",
       "    --sklearn-color-text-on-default-background: var(--sg-text-color, var(--theme-code-foreground, var(--jp-content-font-color1, white)));\n",
       "    --sklearn-color-background: var(--sg-background-color, var(--theme-background, var(--jp-layout-color0, #111)));\n",
       "    --sklearn-color-border-box: var(--sg-text-color, var(--theme-code-foreground, var(--jp-content-font-color1, white)));\n",
       "    --sklearn-color-icon: #878787;\n",
       "  }\n",
       "}\n",
       "\n",
       "#sk-container-id-1 {\n",
       "  color: var(--sklearn-color-text);\n",
       "}\n",
       "\n",
       "#sk-container-id-1 pre {\n",
       "  padding: 0;\n",
       "}\n",
       "\n",
       "#sk-container-id-1 input.sk-hidden--visually {\n",
       "  border: 0;\n",
       "  clip: rect(1px 1px 1px 1px);\n",
       "  clip: rect(1px, 1px, 1px, 1px);\n",
       "  height: 1px;\n",
       "  margin: -1px;\n",
       "  overflow: hidden;\n",
       "  padding: 0;\n",
       "  position: absolute;\n",
       "  width: 1px;\n",
       "}\n",
       "\n",
       "#sk-container-id-1 div.sk-dashed-wrapped {\n",
       "  border: 1px dashed var(--sklearn-color-line);\n",
       "  margin: 0 0.4em 0.5em 0.4em;\n",
       "  box-sizing: border-box;\n",
       "  padding-bottom: 0.4em;\n",
       "  background-color: var(--sklearn-color-background);\n",
       "}\n",
       "\n",
       "#sk-container-id-1 div.sk-container {\n",
       "  /* jupyter's `normalize.less` sets `[hidden] { display: none; }`\n",
       "     but bootstrap.min.css set `[hidden] { display: none !important; }`\n",
       "     so we also need the `!important` here to be able to override the\n",
       "     default hidden behavior on the sphinx rendered scikit-learn.org.\n",
       "     See: https://github.com/scikit-learn/scikit-learn/issues/21755 */\n",
       "  display: inline-block !important;\n",
       "  position: relative;\n",
       "}\n",
       "\n",
       "#sk-container-id-1 div.sk-text-repr-fallback {\n",
       "  display: none;\n",
       "}\n",
       "\n",
       "div.sk-parallel-item,\n",
       "div.sk-serial,\n",
       "div.sk-item {\n",
       "  /* draw centered vertical line to link estimators */\n",
       "  background-image: linear-gradient(var(--sklearn-color-text-on-default-background), var(--sklearn-color-text-on-default-background));\n",
       "  background-size: 2px 100%;\n",
       "  background-repeat: no-repeat;\n",
       "  background-position: center center;\n",
       "}\n",
       "\n",
       "/* Parallel-specific style estimator block */\n",
       "\n",
       "#sk-container-id-1 div.sk-parallel-item::after {\n",
       "  content: \"\";\n",
       "  width: 100%;\n",
       "  border-bottom: 2px solid var(--sklearn-color-text-on-default-background);\n",
       "  flex-grow: 1;\n",
       "}\n",
       "\n",
       "#sk-container-id-1 div.sk-parallel {\n",
       "  display: flex;\n",
       "  align-items: stretch;\n",
       "  justify-content: center;\n",
       "  background-color: var(--sklearn-color-background);\n",
       "  position: relative;\n",
       "}\n",
       "\n",
       "#sk-container-id-1 div.sk-parallel-item {\n",
       "  display: flex;\n",
       "  flex-direction: column;\n",
       "}\n",
       "\n",
       "#sk-container-id-1 div.sk-parallel-item:first-child::after {\n",
       "  align-self: flex-end;\n",
       "  width: 50%;\n",
       "}\n",
       "\n",
       "#sk-container-id-1 div.sk-parallel-item:last-child::after {\n",
       "  align-self: flex-start;\n",
       "  width: 50%;\n",
       "}\n",
       "\n",
       "#sk-container-id-1 div.sk-parallel-item:only-child::after {\n",
       "  width: 0;\n",
       "}\n",
       "\n",
       "/* Serial-specific style estimator block */\n",
       "\n",
       "#sk-container-id-1 div.sk-serial {\n",
       "  display: flex;\n",
       "  flex-direction: column;\n",
       "  align-items: center;\n",
       "  background-color: var(--sklearn-color-background);\n",
       "  padding-right: 1em;\n",
       "  padding-left: 1em;\n",
       "}\n",
       "\n",
       "\n",
       "/* Toggleable style: style used for estimator/Pipeline/ColumnTransformer box that is\n",
       "clickable and can be expanded/collapsed.\n",
       "- Pipeline and ColumnTransformer use this feature and define the default style\n",
       "- Estimators will overwrite some part of the style using the `sk-estimator` class\n",
       "*/\n",
       "\n",
       "/* Pipeline and ColumnTransformer style (default) */\n",
       "\n",
       "#sk-container-id-1 div.sk-toggleable {\n",
       "  /* Default theme specific background. It is overwritten whether we have a\n",
       "  specific estimator or a Pipeline/ColumnTransformer */\n",
       "  background-color: var(--sklearn-color-background);\n",
       "}\n",
       "\n",
       "/* Toggleable label */\n",
       "#sk-container-id-1 label.sk-toggleable__label {\n",
       "  cursor: pointer;\n",
       "  display: block;\n",
       "  width: 100%;\n",
       "  margin-bottom: 0;\n",
       "  padding: 0.5em;\n",
       "  box-sizing: border-box;\n",
       "  text-align: center;\n",
       "}\n",
       "\n",
       "#sk-container-id-1 label.sk-toggleable__label-arrow:before {\n",
       "  /* Arrow on the left of the label */\n",
       "  content: \"▸\";\n",
       "  float: left;\n",
       "  margin-right: 0.25em;\n",
       "  color: var(--sklearn-color-icon);\n",
       "}\n",
       "\n",
       "#sk-container-id-1 label.sk-toggleable__label-arrow:hover:before {\n",
       "  color: var(--sklearn-color-text);\n",
       "}\n",
       "\n",
       "/* Toggleable content - dropdown */\n",
       "\n",
       "#sk-container-id-1 div.sk-toggleable__content {\n",
       "  max-height: 0;\n",
       "  max-width: 0;\n",
       "  overflow: hidden;\n",
       "  text-align: left;\n",
       "  /* unfitted */\n",
       "  background-color: var(--sklearn-color-unfitted-level-0);\n",
       "}\n",
       "\n",
       "#sk-container-id-1 div.sk-toggleable__content.fitted {\n",
       "  /* fitted */\n",
       "  background-color: var(--sklearn-color-fitted-level-0);\n",
       "}\n",
       "\n",
       "#sk-container-id-1 div.sk-toggleable__content pre {\n",
       "  margin: 0.2em;\n",
       "  border-radius: 0.25em;\n",
       "  color: var(--sklearn-color-text);\n",
       "  /* unfitted */\n",
       "  background-color: var(--sklearn-color-unfitted-level-0);\n",
       "}\n",
       "\n",
       "#sk-container-id-1 div.sk-toggleable__content.fitted pre {\n",
       "  /* unfitted */\n",
       "  background-color: var(--sklearn-color-fitted-level-0);\n",
       "}\n",
       "\n",
       "#sk-container-id-1 input.sk-toggleable__control:checked~div.sk-toggleable__content {\n",
       "  /* Expand drop-down */\n",
       "  max-height: 200px;\n",
       "  max-width: 100%;\n",
       "  overflow: auto;\n",
       "}\n",
       "\n",
       "#sk-container-id-1 input.sk-toggleable__control:checked~label.sk-toggleable__label-arrow:before {\n",
       "  content: \"▾\";\n",
       "}\n",
       "\n",
       "/* Pipeline/ColumnTransformer-specific style */\n",
       "\n",
       "#sk-container-id-1 div.sk-label input.sk-toggleable__control:checked~label.sk-toggleable__label {\n",
       "  color: var(--sklearn-color-text);\n",
       "  background-color: var(--sklearn-color-unfitted-level-2);\n",
       "}\n",
       "\n",
       "#sk-container-id-1 div.sk-label.fitted input.sk-toggleable__control:checked~label.sk-toggleable__label {\n",
       "  background-color: var(--sklearn-color-fitted-level-2);\n",
       "}\n",
       "\n",
       "/* Estimator-specific style */\n",
       "\n",
       "/* Colorize estimator box */\n",
       "#sk-container-id-1 div.sk-estimator input.sk-toggleable__control:checked~label.sk-toggleable__label {\n",
       "  /* unfitted */\n",
       "  background-color: var(--sklearn-color-unfitted-level-2);\n",
       "}\n",
       "\n",
       "#sk-container-id-1 div.sk-estimator.fitted input.sk-toggleable__control:checked~label.sk-toggleable__label {\n",
       "  /* fitted */\n",
       "  background-color: var(--sklearn-color-fitted-level-2);\n",
       "}\n",
       "\n",
       "#sk-container-id-1 div.sk-label label.sk-toggleable__label,\n",
       "#sk-container-id-1 div.sk-label label {\n",
       "  /* The background is the default theme color */\n",
       "  color: var(--sklearn-color-text-on-default-background);\n",
       "}\n",
       "\n",
       "/* On hover, darken the color of the background */\n",
       "#sk-container-id-1 div.sk-label:hover label.sk-toggleable__label {\n",
       "  color: var(--sklearn-color-text);\n",
       "  background-color: var(--sklearn-color-unfitted-level-2);\n",
       "}\n",
       "\n",
       "/* Label box, darken color on hover, fitted */\n",
       "#sk-container-id-1 div.sk-label.fitted:hover label.sk-toggleable__label.fitted {\n",
       "  color: var(--sklearn-color-text);\n",
       "  background-color: var(--sklearn-color-fitted-level-2);\n",
       "}\n",
       "\n",
       "/* Estimator label */\n",
       "\n",
       "#sk-container-id-1 div.sk-label label {\n",
       "  font-family: monospace;\n",
       "  font-weight: bold;\n",
       "  display: inline-block;\n",
       "  line-height: 1.2em;\n",
       "}\n",
       "\n",
       "#sk-container-id-1 div.sk-label-container {\n",
       "  text-align: center;\n",
       "}\n",
       "\n",
       "/* Estimator-specific */\n",
       "#sk-container-id-1 div.sk-estimator {\n",
       "  font-family: monospace;\n",
       "  border: 1px dotted var(--sklearn-color-border-box);\n",
       "  border-radius: 0.25em;\n",
       "  box-sizing: border-box;\n",
       "  margin-bottom: 0.5em;\n",
       "  /* unfitted */\n",
       "  background-color: var(--sklearn-color-unfitted-level-0);\n",
       "}\n",
       "\n",
       "#sk-container-id-1 div.sk-estimator.fitted {\n",
       "  /* fitted */\n",
       "  background-color: var(--sklearn-color-fitted-level-0);\n",
       "}\n",
       "\n",
       "/* on hover */\n",
       "#sk-container-id-1 div.sk-estimator:hover {\n",
       "  /* unfitted */\n",
       "  background-color: var(--sklearn-color-unfitted-level-2);\n",
       "}\n",
       "\n",
       "#sk-container-id-1 div.sk-estimator.fitted:hover {\n",
       "  /* fitted */\n",
       "  background-color: var(--sklearn-color-fitted-level-2);\n",
       "}\n",
       "\n",
       "/* Specification for estimator info (e.g. \"i\" and \"?\") */\n",
       "\n",
       "/* Common style for \"i\" and \"?\" */\n",
       "\n",
       ".sk-estimator-doc-link,\n",
       "a:link.sk-estimator-doc-link,\n",
       "a:visited.sk-estimator-doc-link {\n",
       "  float: right;\n",
       "  font-size: smaller;\n",
       "  line-height: 1em;\n",
       "  font-family: monospace;\n",
       "  background-color: var(--sklearn-color-background);\n",
       "  border-radius: 1em;\n",
       "  height: 1em;\n",
       "  width: 1em;\n",
       "  text-decoration: none !important;\n",
       "  margin-left: 1ex;\n",
       "  /* unfitted */\n",
       "  border: var(--sklearn-color-unfitted-level-1) 1pt solid;\n",
       "  color: var(--sklearn-color-unfitted-level-1);\n",
       "}\n",
       "\n",
       ".sk-estimator-doc-link.fitted,\n",
       "a:link.sk-estimator-doc-link.fitted,\n",
       "a:visited.sk-estimator-doc-link.fitted {\n",
       "  /* fitted */\n",
       "  border: var(--sklearn-color-fitted-level-1) 1pt solid;\n",
       "  color: var(--sklearn-color-fitted-level-1);\n",
       "}\n",
       "\n",
       "/* On hover */\n",
       "div.sk-estimator:hover .sk-estimator-doc-link:hover,\n",
       ".sk-estimator-doc-link:hover,\n",
       "div.sk-label-container:hover .sk-estimator-doc-link:hover,\n",
       ".sk-estimator-doc-link:hover {\n",
       "  /* unfitted */\n",
       "  background-color: var(--sklearn-color-unfitted-level-3);\n",
       "  color: var(--sklearn-color-background);\n",
       "  text-decoration: none;\n",
       "}\n",
       "\n",
       "div.sk-estimator.fitted:hover .sk-estimator-doc-link.fitted:hover,\n",
       ".sk-estimator-doc-link.fitted:hover,\n",
       "div.sk-label-container:hover .sk-estimator-doc-link.fitted:hover,\n",
       ".sk-estimator-doc-link.fitted:hover {\n",
       "  /* fitted */\n",
       "  background-color: var(--sklearn-color-fitted-level-3);\n",
       "  color: var(--sklearn-color-background);\n",
       "  text-decoration: none;\n",
       "}\n",
       "\n",
       "/* Span, style for the box shown on hovering the info icon */\n",
       ".sk-estimator-doc-link span {\n",
       "  display: none;\n",
       "  z-index: 9999;\n",
       "  position: relative;\n",
       "  font-weight: normal;\n",
       "  right: .2ex;\n",
       "  padding: .5ex;\n",
       "  margin: .5ex;\n",
       "  width: min-content;\n",
       "  min-width: 20ex;\n",
       "  max-width: 50ex;\n",
       "  color: var(--sklearn-color-text);\n",
       "  box-shadow: 2pt 2pt 4pt #999;\n",
       "  /* unfitted */\n",
       "  background: var(--sklearn-color-unfitted-level-0);\n",
       "  border: .5pt solid var(--sklearn-color-unfitted-level-3);\n",
       "}\n",
       "\n",
       ".sk-estimator-doc-link.fitted span {\n",
       "  /* fitted */\n",
       "  background: var(--sklearn-color-fitted-level-0);\n",
       "  border: var(--sklearn-color-fitted-level-3);\n",
       "}\n",
       "\n",
       ".sk-estimator-doc-link:hover span {\n",
       "  display: block;\n",
       "}\n",
       "\n",
       "/* \"?\"-specific style due to the `<a>` HTML tag */\n",
       "\n",
       "#sk-container-id-1 a.estimator_doc_link {\n",
       "  float: right;\n",
       "  font-size: 1rem;\n",
       "  line-height: 1em;\n",
       "  font-family: monospace;\n",
       "  background-color: var(--sklearn-color-background);\n",
       "  border-radius: 1rem;\n",
       "  height: 1rem;\n",
       "  width: 1rem;\n",
       "  text-decoration: none;\n",
       "  /* unfitted */\n",
       "  color: var(--sklearn-color-unfitted-level-1);\n",
       "  border: var(--sklearn-color-unfitted-level-1) 1pt solid;\n",
       "}\n",
       "\n",
       "#sk-container-id-1 a.estimator_doc_link.fitted {\n",
       "  /* fitted */\n",
       "  border: var(--sklearn-color-fitted-level-1) 1pt solid;\n",
       "  color: var(--sklearn-color-fitted-level-1);\n",
       "}\n",
       "\n",
       "/* On hover */\n",
       "#sk-container-id-1 a.estimator_doc_link:hover {\n",
       "  /* unfitted */\n",
       "  background-color: var(--sklearn-color-unfitted-level-3);\n",
       "  color: var(--sklearn-color-background);\n",
       "  text-decoration: none;\n",
       "}\n",
       "\n",
       "#sk-container-id-1 a.estimator_doc_link.fitted:hover {\n",
       "  /* fitted */\n",
       "  background-color: var(--sklearn-color-fitted-level-3);\n",
       "}\n",
       "</style><div id=\"sk-container-id-1\" class=\"sk-top-container\"><div class=\"sk-text-repr-fallback\"><pre>TPOTClassifier(generations=50, n_jobs=-1, population_size=50, random_state=1337,\n",
       "               scoring=&#x27;f1_weighted&#x27;, subsample=0.5, verbosity=2)</pre><b>In a Jupyter environment, please rerun this cell to show the HTML representation or trust the notebook. <br />On GitHub, the HTML representation is unable to render, please try loading this page with nbviewer.org.</b></div><div class=\"sk-container\" hidden><div class=\"sk-item\"><div class=\"sk-estimator fitted sk-toggleable\"><input class=\"sk-toggleable__control sk-hidden--visually\" id=\"sk-estimator-id-1\" type=\"checkbox\" checked><label for=\"sk-estimator-id-1\" class=\"sk-toggleable__label fitted sk-toggleable__label-arrow fitted\">&nbsp;TPOTClassifier<span class=\"sk-estimator-doc-link fitted\">i<span>Fitted</span></span></label><div class=\"sk-toggleable__content fitted\"><pre>TPOTClassifier(generations=50, n_jobs=-1, population_size=50, random_state=1337,\n",
       "               scoring=&#x27;f1_weighted&#x27;, subsample=0.5, verbosity=2)</pre></div> </div></div></div></div>"
      ],
      "text/plain": [
       "TPOTClassifier(generations=50, n_jobs=-1, population_size=50, random_state=1337,\n",
       "               scoring='f1_weighted', subsample=0.5, verbosity=2)"
      ]
     },
     "execution_count": 15,
     "metadata": {},
     "output_type": "execute_result"
    }
   ],
   "source": [
    "settings = dict(\n",
    "    generations = 50,\n",
    "    population_size = 50,\n",
    "    scoring = 'f1_weighted',\n",
    "    cv = 5,\n",
    "    subsample = 0.5,\n",
    "    n_jobs = -1,\n",
    "    verbosity = 2,\n",
    "    random_state = 1337\n",
    ")\n",
    "\n",
    "tpot_model = TPOTClassifier(**settings)\n",
    "tpot_model.fit(X_train, y_train)"
   ]
  },
  {
   "cell_type": "code",
   "execution_count": 17,
   "id": "fe274b38",
   "metadata": {},
   "outputs": [
    {
     "name": "stdout",
     "output_type": "stream",
     "text": [
      "              precision    recall  f1-score   support\n",
      "\n",
      "           0       0.61      0.70      0.65        69\n",
      "           1       0.40      0.31      0.35        45\n",
      "\n",
      "    accuracy                           0.54       114\n",
      "   macro avg       0.50      0.50      0.50       114\n",
      "weighted avg       0.53      0.54      0.53       114\n",
      "\n"
     ]
    }
   ],
   "source": [
    "from sklearn.metrics import classification_report\n",
    "\n",
    "print(classification_report(y_test, tpot_model.predict(X_test)))"
   ]
  },
  {
   "cell_type": "code",
   "execution_count": 20,
   "id": "db8af880",
   "metadata": {},
   "outputs": [],
   "source": [
    "# export optimal pipeline\n",
    "tpot_model.export(\"tpot_pipeline.py\")"
   ]
  },
  {
   "cell_type": "code",
   "execution_count": null,
   "id": "f7d0092f",
   "metadata": {},
   "outputs": [],
   "source": [
    "# Exported pipeline\n",
    "import numpy as np\n",
    "import pandas as pd\n",
    "from sklearn.decomposition import FastICA\n",
    "from sklearn.kernel_approximation import Nystroem\n",
    "from sklearn.model_selection import train_test_split\n",
    "from sklearn.naive_bayes import GaussianNB\n",
    "from sklearn.pipeline import make_pipeline\n",
    "from tpot.export_utils import set_param_recursive\n",
    "\n",
    "# NOTE: Make sure that the outcome column is labeled 'target' in the data file\n",
    "tpot_data = pd.read_csv('PATH/TO/DATA/FILE', sep='COLUMN_SEPARATOR', dtype=np.float64)\n",
    "features = tpot_data.drop('target', axis=1)\n",
    "training_features, testing_features, training_target, testing_target = \\\n",
    "            train_test_split(features, tpot_data['target'], random_state=1337)\n",
    "\n",
    "# Average CV score on the training set was: 0.599539016730704\n",
    "exported_pipeline = make_pipeline(\n",
    "    Nystroem(gamma=0.15000000000000002, kernel=\"rbf\", n_components=5),\n",
    "    FastICA(tol=0.0),\n",
    "    GaussianNB()\n",
    ")\n",
    "# Fix random state for all the steps in exported pipeline\n",
    "set_param_recursive(exported_pipeline.steps, 'random_state', 1337)\n",
    "\n",
    "exported_pipeline.fit(training_features, training_target)\n",
    "results = exported_pipeline.predict(testing_features)\n"
   ]
  }
 ],
 "metadata": {
  "kernelspec": {
   "display_name": "Python 3 (ipykernel)",
   "language": "python",
   "name": "python3"
  },
  "language_info": {
   "codemirror_mode": {
    "name": "ipython",
    "version": 3
   },
   "file_extension": ".py",
   "mimetype": "text/x-python",
   "name": "python",
   "nbconvert_exporter": "python",
   "pygments_lexer": "ipython3",
   "version": "3.11.8"
  }
 },
 "nbformat": 4,
 "nbformat_minor": 5
}
